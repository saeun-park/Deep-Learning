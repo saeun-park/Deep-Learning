{
 "cells": [
  {
   "cell_type": "code",
   "execution_count": 2,
   "id": "da5de206",
   "metadata": {},
   "outputs": [
    {
     "name": "stdout",
     "output_type": "stream",
     "text": [
      "Collecting git+https://github.com/haven-jeon/PyKoSpacing.git\r\n",
      "  Cloning https://github.com/haven-jeon/PyKoSpacing.git to /private/var/folders/_3/ym24pmqd37ddqt3d21dnp8940000gn/T/pip-req-build-ak_bx3s5\r\n",
      "  Running command git clone -q https://github.com/haven-jeon/PyKoSpacing.git /private/var/folders/_3/ym24pmqd37ddqt3d21dnp8940000gn/T/pip-req-build-ak_bx3s5\r\n",
      "  xcrun: error: invalid active developer path (/Library/Developer/CommandLineTools), missing xcrun at: /Library/Developer/CommandLineTools/usr/bin/xcrun\r\n",
      "\u001b[33mWARNING: Discarding git+https://github.com/haven-jeon/PyKoSpacing.git. Command errored out with exit status 1: git clone -q https://github.com/haven-jeon/PyKoSpacing.git /private/var/folders/_3/ym24pmqd37ddqt3d21dnp8940000gn/T/pip-req-build-ak_bx3s5 Check the logs for full command output.\u001b[0m\r\n",
      "\u001b[31mERROR: Command errored out with exit status 1: git clone -q https://github.com/haven-jeon/PyKoSpacing.git /private/var/folders/_3/ym24pmqd37ddqt3d21dnp8940000gn/T/pip-req-build-ak_bx3s5 Check the logs for full command output.\u001b[0m\r\n"
     ]
    }
   ],
   "source": [
    "# PyKoSpacing은 띄어쓰기 되어있지 않은 문장을 띄어쓰기한 문장으로 변환\n",
    "!pip install git+https://github.com/haven-jeon/PyKoSpacing.git"
   ]
  },
  {
   "cell_type": "code",
   "execution_count": null,
   "id": "22e6e386",
   "metadata": {},
   "outputs": [],
   "source": [
    "sent = '''김철수는 극중 두 인격의 사나이 이광수 역을 맡았다. 철수는 한국 유일의 태권도 전승자를 가리는 결전의 날을 앞두고\n",
    "10년간 함께 훈련한 사형인 유연재(김광수 분)를 찾으러 속세로 내려온 인물이다.'''"
   ]
  },
  {
   "cell_type": "code",
   "execution_count": null,
   "id": "48171e0a",
   "metadata": {},
   "outputs": [],
   "source": [
    "new_sent = sent.replace(\" \", '')\n",
    "print(new_sent)"
   ]
  },
  {
   "cell_type": "code",
   "execution_count": 3,
   "id": "089bf2f8",
   "metadata": {},
   "outputs": [
    {
     "ename": "ModuleNotFoundError",
     "evalue": "No module named 'pykospacing'",
     "output_type": "error",
     "traceback": [
      "\u001b[0;31m---------------------------------------------------------------------------\u001b[0m",
      "\u001b[0;31mModuleNotFoundError\u001b[0m                       Traceback (most recent call last)",
      "Input \u001b[0;32mIn [3]\u001b[0m, in \u001b[0;36m<cell line: 1>\u001b[0;34m()\u001b[0m\n\u001b[0;32m----> 1\u001b[0m \u001b[38;5;28;01mfrom\u001b[39;00m \u001b[38;5;21;01mpykospacing\u001b[39;00m \u001b[38;5;28;01mimport\u001b[39;00m Spacing\n\u001b[1;32m      2\u001b[0m spacing \u001b[38;5;241m=\u001b[39m Spacing()\n\u001b[1;32m      3\u001b[0m kospacing_sent \u001b[38;5;241m=\u001b[39m spacing(new_sent) \n",
      "\u001b[0;31mModuleNotFoundError\u001b[0m: No module named 'pykospacing'"
     ]
    }
   ],
   "source": [
    "from pykospacing import Spacing\n",
    "spacing = Spacing()\n",
    "kospacing_sent = spacing(new_sent) \n",
    "\n",
    "print(sent)\n",
    "print(kospacing_sent)\n"
   ]
  },
  {
   "cell_type": "code",
   "execution_count": 4,
   "id": "77a01630",
   "metadata": {},
   "outputs": [
    {
     "ename": "SyntaxError",
     "evalue": "invalid syntax (3007141789.py, line 2)",
     "output_type": "error",
     "traceback": [
      "\u001b[0;36m  Input \u001b[0;32mIn [4]\u001b[0;36m\u001b[0m\n\u001b[0;31m    pip install soynlp\u001b[0m\n\u001b[0m        ^\u001b[0m\n\u001b[0;31mSyntaxError\u001b[0m\u001b[0;31m:\u001b[0m invalid syntax\n"
     ]
    }
   ],
   "source": [
    "## SOYNLP 단어 토큰화\n",
    "pip install soynlp"
   ]
  },
  {
   "cell_type": "code",
   "execution_count": null,
   "id": "bc793737",
   "metadata": {},
   "outputs": [],
   "source": []
  }
 ],
 "metadata": {
  "kernelspec": {
   "display_name": "Python 3 (ipykernel)",
   "language": "python",
   "name": "python3"
  },
  "language_info": {
   "codemirror_mode": {
    "name": "ipython",
    "version": 3
   },
   "file_extension": ".py",
   "mimetype": "text/x-python",
   "name": "python",
   "nbconvert_exporter": "python",
   "pygments_lexer": "ipython3",
   "version": "3.9.12"
  }
 },
 "nbformat": 4,
 "nbformat_minor": 5
}
