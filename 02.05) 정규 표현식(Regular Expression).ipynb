{
 "cells": [
  {
   "cell_type": "code",
   "execution_count": 2,
   "id": "cfbe6aad",
   "metadata": {},
   "outputs": [],
   "source": [
    "import re"
   ]
  },
  {
   "cell_type": "code",
   "execution_count": 3,
   "id": "eebae7a1",
   "metadata": {},
   "outputs": [],
   "source": [
    "### 정규표현식 문법 예제\n",
    "\n",
    "# 1. .\n",
    "r = re.compile(\"a.c\")\n",
    "r.search(\"kkk\") # 아무런 결과도 출력되지 않는다."
   ]
  },
  {
   "cell_type": "code",
   "execution_count": 7,
   "id": "778e4c04",
   "metadata": {},
   "outputs": [
    {
     "data": {
      "text/plain": [
       "<re.Match object; span=(0, 3), match='abc'>"
      ]
     },
     "execution_count": 7,
     "metadata": {},
     "output_type": "execute_result"
    }
   ],
   "source": [
    "r.search(\"abc\")"
   ]
  },
  {
   "cell_type": "code",
   "execution_count": 13,
   "id": "17142c74",
   "metadata": {},
   "outputs": [],
   "source": [
    "# 2. ?\n",
    "# b를 있다고 취급하거나, 없다고 취급하거나 --> abc or ac 인식\n",
    "r = re.compile(\"ab?c\")\n",
    "r.search(\"abbc\")"
   ]
  },
  {
   "cell_type": "code",
   "execution_count": 15,
   "id": "9b008911",
   "metadata": {},
   "outputs": [
    {
     "data": {
      "text/plain": [
       "<re.Match object; span=(0, 2), match='ac'>"
      ]
     },
     "execution_count": 15,
     "metadata": {},
     "output_type": "execute_result"
    }
   ],
   "source": [
    "r.search(\"abc\")\n",
    "r.search(\"ac\")"
   ]
  },
  {
   "cell_type": "code",
   "execution_count": 17,
   "id": "a2eaa7c2",
   "metadata": {},
   "outputs": [],
   "source": [
    "# 3. *\n",
    "# *바로 앞의 문자가 0개 이상일 경우 ex. ac, abc, abbc, abbbbbc\n",
    "r = re.compile(\"ab*c\")\n",
    "r.search(\"a\")"
   ]
  },
  {
   "cell_type": "code",
   "execution_count": 20,
   "id": "d4a71e04",
   "metadata": {},
   "outputs": [
    {
     "data": {
      "text/plain": [
       "<re.Match object; span=(0, 11), match='abbbbbbbbbc'>"
      ]
     },
     "execution_count": 20,
     "metadata": {},
     "output_type": "execute_result"
    }
   ],
   "source": [
    "r.search(\"abbbbbbbbbc\")"
   ]
  },
  {
   "cell_type": "code",
   "execution_count": 21,
   "id": "8520bb83",
   "metadata": {},
   "outputs": [],
   "source": [
    "# 4. +\n",
    "# *와 유사, 바로 앞의 문자가 1개 이상일 경우 ex. ac는 불가능, abc, abbbbbc\n",
    "r = re.compile(\"ab+c\")\n",
    "r.search(\"ac\")"
   ]
  },
  {
   "cell_type": "code",
   "execution_count": 22,
   "id": "fea42822",
   "metadata": {},
   "outputs": [
    {
     "data": {
      "text/plain": [
       "<re.Match object; span=(0, 6), match='abbbbc'>"
      ]
     },
     "execution_count": 22,
     "metadata": {},
     "output_type": "execute_result"
    }
   ],
   "source": [
    "r.search(\"abbbbc\")"
   ]
  },
  {
   "cell_type": "code",
   "execution_count": 27,
   "id": "6fdd1b26",
   "metadata": {},
   "outputs": [
    {
     "data": {
      "text/plain": [
       "<re.Match object; span=(0, 2), match='ab'>"
      ]
     },
     "execution_count": 27,
     "metadata": {},
     "output_type": "execute_result"
    }
   ],
   "source": [
    "# 5. ^\n",
    "# 시작되는 문자열 지정 ex. ^ab면 ab로 시작되는 경우 인식함\n",
    "r = re.compile(\"^ab\")\n",
    "r.search(\"abbsdfafab\")"
   ]
  },
  {
   "cell_type": "code",
   "execution_count": 33,
   "id": "7fb26cdc",
   "metadata": {},
   "outputs": [
    {
     "data": {
      "text/plain": [
       "<re.Match object; span=(4, 8), match='abbc'>"
      ]
     },
     "execution_count": 33,
     "metadata": {},
     "output_type": "execute_result"
    }
   ],
   "source": [
    "# 6. {숫자}\n",
    "# 문자를 해당 숫자만큼 반복 \n",
    "r = re.compile(\"ab{2}c\")\n",
    "r.search(\"aesdabbcsdf\") #abbc가 존재하는 문자열 인식"
   ]
  },
  {
   "cell_type": "code",
   "execution_count": 37,
   "id": "90c08643",
   "metadata": {},
   "outputs": [
    {
     "data": {
      "text/plain": [
       "<re.Match object; span=(0, 9), match='abbbbbbbc'>"
      ]
     },
     "execution_count": 37,
     "metadata": {},
     "output_type": "execute_result"
    }
   ],
   "source": [
    "# 7. {숫자1, 숫자2}\n",
    "# 숫자1 이상 숫자2 이하만큼 반복\n",
    "r = re.compile(\"ab{2,8}c\")\n",
    "r.search(\"abbbbbbbc\")"
   ]
  },
  {
   "cell_type": "code",
   "execution_count": 41,
   "id": "5618d457",
   "metadata": {},
   "outputs": [
    {
     "data": {
      "text/plain": [
       "<re.Match object; span=(0, 8), match='aaaaaabc'>"
      ]
     },
     "execution_count": 41,
     "metadata": {},
     "output_type": "execute_result"
    }
   ],
   "source": [
    "# 8. {숫자,}\n",
    "# 해당 문자를 숫자 이상만큼 반복\n",
    "r = re.compile(\"a{2,}bc\")\n",
    "r.search(\"aaaaaabc\")"
   ]
  },
  {
   "cell_type": "code",
   "execution_count": 46,
   "id": "6e8849cc",
   "metadata": {},
   "outputs": [
    {
     "data": {
      "text/plain": [
       "<re.Match object; span=(0, 1), match='a'>"
      ]
     },
     "execution_count": 46,
     "metadata": {},
     "output_type": "execute_result"
    }
   ],
   "source": [
    "# 9. []\n",
    "# 그 문자들 중 한 개의 문자와 매치함 \n",
    "# ex. [abc] --> a or b or c가 들어가 있는 문자열 매치\n",
    "\n",
    "r = re.compile(\"[abcd]\")\n",
    "r.search(\"jkjhnlinals\") #a가 들어가 있음\n",
    "\n",
    "r = re.compile(\"[a-z]\")\n",
    "r.search(\"aBC\")"
   ]
  },
  {
   "cell_type": "code",
   "execution_count": 52,
   "id": "60b7491d",
   "metadata": {},
   "outputs": [
    {
     "data": {
      "text/plain": [
       "<re.Match object; span=(0, 1), match='s'>"
      ]
     },
     "execution_count": 52,
     "metadata": {},
     "output_type": "execute_result"
    }
   ],
   "source": [
    "# 10. [^문자]\n",
    "# ex. [^abc] --> a or b or c가 들어간 문자열 제외한 모든 문자열\n",
    "\n",
    "r = re.compile(\"[^abc]\")\n",
    "r.search(\"sd\")"
   ]
  },
  {
   "cell_type": "code",
   "execution_count": 57,
   "id": "41b9a35c",
   "metadata": {},
   "outputs": [],
   "source": [
    "### 정규 표현식 모듈 함수 예제\n",
    "\n",
    "# 1. re.match()와 re.search()\n",
    "# re.match는 문자열의 첫 부분부터 정규 표현식과 매치하는지 확인\n",
    "\n",
    "r = re.compile(\"ab.\")\n",
    "r.match(\"kkkabc\") # 아무런 결과 X"
   ]
  },
  {
   "cell_type": "code",
   "execution_count": 60,
   "id": "fb0b062c",
   "metadata": {},
   "outputs": [
    {
     "data": {
      "text/plain": [
       "<re.Match object; span=(0, 3), match='abc'>"
      ]
     },
     "execution_count": 60,
     "metadata": {},
     "output_type": "execute_result"
    }
   ],
   "source": [
    "r.match(\"abckkk\") # 결과 나옴"
   ]
  },
  {
   "cell_type": "code",
   "execution_count": 61,
   "id": "fa3f3bf6",
   "metadata": {},
   "outputs": [
    {
     "data": {
      "text/plain": [
       "<re.Match object; span=(3, 6), match='abc'>"
      ]
     },
     "execution_count": 61,
     "metadata": {},
     "output_type": "execute_result"
    }
   ],
   "source": [
    "r.search(\"kkkabc\") # search는 전체에 대해서 문자열이 매치하면 결과 나옴"
   ]
  },
  {
   "cell_type": "code",
   "execution_count": 65,
   "id": "2d768122",
   "metadata": {},
   "outputs": [
    {
     "data": {
      "text/plain": [
       "['사과', '딸기', '수박', '메론', '바나나']"
      ]
     },
     "execution_count": 65,
     "metadata": {},
     "output_type": "execute_result"
    }
   ],
   "source": [
    "# 2. re.split()\n",
    "\n",
    "# 공백 기준으로 문자열 분리\n",
    "text = \"사과 딸기 수박 메론 바나나\"\n",
    "re.split(\" \", text) "
   ]
  },
  {
   "cell_type": "code",
   "execution_count": 66,
   "id": "f34434f1",
   "metadata": {},
   "outputs": [
    {
     "data": {
      "text/plain": [
       "['사과', '딸기', '수박', '메론', '바나나']"
      ]
     },
     "execution_count": 66,
     "metadata": {},
     "output_type": "execute_result"
    }
   ],
   "source": [
    "# 줄바꿈 기준으로 문자열 분리\n",
    "text = \"\"\"사과\n",
    "딸기\n",
    "수박\n",
    "메론\n",
    "바나나\"\"\"\n",
    "re.split(\"\\n\", text)"
   ]
  },
  {
   "cell_type": "code",
   "execution_count": 67,
   "id": "9c17ea6b",
   "metadata": {},
   "outputs": [
    {
     "data": {
      "text/plain": [
       "['사과', '딸기', '수박', '메론', '바나나']"
      ]
     },
     "execution_count": 67,
     "metadata": {},
     "output_type": "execute_result"
    }
   ],
   "source": [
    "# +를 기준으로 분리 (슬래쉬 들어감)\n",
    "text = \"사과+딸기+수박+메론+바나나\"\n",
    "re.split(\"\\+\", text)"
   ]
  },
  {
   "cell_type": "code",
   "execution_count": 68,
   "id": "88817c86",
   "metadata": {},
   "outputs": [
    {
     "data": {
      "text/plain": [
       "['010', '1234', '1234', '30']"
      ]
     },
     "execution_count": 68,
     "metadata": {},
     "output_type": "execute_result"
    }
   ],
   "source": [
    "# 3. re.findall()\n",
    "# 정규 표현식과 매치되는 모든 문자열들 리스트로 리턴\n",
    "\n",
    "text = \"\"\"이름 : 김철수\n",
    "전화번호 : 010 - 1234 - 1234\n",
    "나이 : 30\n",
    "성별 : 남\"\"\"\n",
    "\n",
    "re.findall(\"\\d+\", text) #'\\d'는 모든 숫자를 의미\n"
   ]
  },
  {
   "cell_type": "code",
   "execution_count": 69,
   "id": "69db7349",
   "metadata": {},
   "outputs": [
    {
     "data": {
      "text/plain": [
       "[]"
      ]
     },
     "execution_count": 69,
     "metadata": {},
     "output_type": "execute_result"
    }
   ],
   "source": [
    "re.findall(\"\\d+\", \"문자열입니다.\") # 빈 리스트 리턴"
   ]
  },
  {
   "cell_type": "code",
   "execution_count": 71,
   "id": "117357cf",
   "metadata": {},
   "outputs": [
    {
     "data": {
      "text/plain": [
       "'Regular expression   A regular expression  regex or regexp      sometimes called a rational expression        is  in theoretical computer science  and formal language theory  a sequence of characters that define a search pattern '"
      ]
     },
     "execution_count": 71,
     "metadata": {},
     "output_type": "execute_result"
    }
   ],
   "source": [
    "# 4. re.sub()\n",
    "# 문자열을 정규 표현식을 이용해서 찾아 다른 문자열로 대체\n",
    "text = \"\"\"Regular expression : A regular expression, regex or regexp[1] \n",
    "(sometimes called a rational expression)[2][3] is, in theoretical computer science \n",
    "and formal language theory, a sequence of characters that define a search pattern.\"\"\"\n",
    "\n",
    "re.sub('[^a-zA-Z]', ' ', text) # 알파벳(대,소문자 모두) 외의 문자는 모두 공백처리"
   ]
  },
  {
   "cell_type": "code",
   "execution_count": 76,
   "id": "67147930",
   "metadata": {},
   "outputs": [
    {
     "data": {
      "text/plain": [
       "['100', 'John', 'PROF', '101', 'James', 'STUD', '102', 'Mac', 'STUD']"
      ]
     },
     "execution_count": 76,
     "metadata": {},
     "output_type": "execute_result"
    }
   ],
   "source": [
    "### 정규 표현식 텍스트 전처리 예제\n",
    "text = \"\"\"100 John    PROF\n",
    "101 James   STUD\n",
    "102 Mac   STUD\"\"\"\n",
    "re.split('\\s+', text) # \\s는 공백을 의미 --> 공백을 기준으로 값이 구분됨"
   ]
  },
  {
   "cell_type": "code",
   "execution_count": 77,
   "id": "5b89de50",
   "metadata": {},
   "outputs": [
    {
     "data": {
      "text/plain": [
       "['100', '101', '102']"
      ]
     },
     "execution_count": 77,
     "metadata": {},
     "output_type": "execute_result"
    }
   ],
   "source": [
    "re.findall('\\d+', text) #\\d는 숫자만 뽑아옴"
   ]
  },
  {
   "cell_type": "code",
   "execution_count": 78,
   "id": "554b091e",
   "metadata": {},
   "outputs": [
    {
     "data": {
      "text/plain": [
       "['J', 'P', 'R', 'O', 'F', 'J', 'S', 'T', 'U', 'D', 'M', 'S', 'T', 'U', 'D']"
      ]
     },
     "execution_count": 78,
     "metadata": {},
     "output_type": "execute_result"
    }
   ],
   "source": [
    "re.findall('[A-Z]',text)"
   ]
  },
  {
   "cell_type": "code",
   "execution_count": 79,
   "id": "cc74304b",
   "metadata": {},
   "outputs": [
    {
     "data": {
      "text/plain": [
       "['PROF', 'STUD', 'STUD']"
      ]
     },
     "execution_count": 79,
     "metadata": {},
     "output_type": "execute_result"
    }
   ],
   "source": [
    "re.findall('[A-Z]{4}',text) #대문자가 연속으로 4번 등장하는 경우"
   ]
  },
  {
   "cell_type": "code",
   "execution_count": 82,
   "id": "332a1b81",
   "metadata": {},
   "outputs": [
    {
     "name": "stdout",
     "output_type": "stream",
     "text": [
      "['Don', 't', 'be', 'fooled', 'by', 'the', 'dark', 'sounding', 'name', 'Mr', 'Jone', 's', 'Orphanage', 'is', 'as', 'cheery', 'as', 'cheery', 'goes', 'for', 'a', 'pastry', 'shop']\n",
      "[\"Don't\", 'be', 'fooled', 'by', 'the', 'dark', 'sounding', 'name,', 'Mr.', \"Jone's\", 'Orphanage', 'is', 'as', 'cheery', 'as', 'cheery', 'goes', 'for', 'a', 'pastry', 'shop']\n"
     ]
    }
   ],
   "source": [
    "### 정규 표현식을 이용한 토큰화\n",
    "# RegexpTokenizer\n",
    "\n",
    "from nltk.tokenize import RegexpTokenizer\n",
    "\n",
    "text = \"Don't be fooled by the dark sounding name, Mr. Jone's Orphanage is as cheery as cheery goes for a pastry shop\"\n",
    "\n",
    "tokenizer1 = RegexpTokenizer(\"[\\w]+\") #\\w는 문자 또는 숫자\n",
    "tokenizer2 = RegexpTokenizer(\"\\s+\", gaps=True)\n",
    "# gaps=True를 기재 --> 공백을 기준으로 토큰을 나눔\n",
    "# 기재하지 않을 시 공백들만 출력됨\n",
    "\n",
    "print(tokenizer1.tokenize(text))\n",
    "print(tokenizer2.tokenize(text))"
   ]
  },
  {
   "cell_type": "code",
   "execution_count": null,
   "id": "c84957f1",
   "metadata": {},
   "outputs": [],
   "source": []
  }
 ],
 "metadata": {
  "kernelspec": {
   "display_name": "Python 3 (ipykernel)",
   "language": "python",
   "name": "python3"
  },
  "language_info": {
   "codemirror_mode": {
    "name": "ipython",
    "version": 3
   },
   "file_extension": ".py",
   "mimetype": "text/x-python",
   "name": "python",
   "nbconvert_exporter": "python",
   "pygments_lexer": "ipython3",
   "version": "3.9.12"
  }
 },
 "nbformat": 4,
 "nbformat_minor": 5
}
